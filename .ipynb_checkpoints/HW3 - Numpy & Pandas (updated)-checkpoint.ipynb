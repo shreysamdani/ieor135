{
 "cells": [
  {
   "cell_type": "markdown",
   "metadata": {},
   "source": [
    "![data-x](http://oi64.tinypic.com/o858n4.jpg)\n",
    "\n",
    "___"
   ]
  },
  {
   "cell_type": "markdown",
   "metadata": {},
   "source": [
    "# Homework 03\n"
   ]
  },
  {
   "cell_type": "markdown",
   "metadata": {},
   "source": [
    "## Name: "
   ]
  },
  {
   "cell_type": "markdown",
   "metadata": {},
   "source": [
    "## Student ID: "
   ]
  },
  {
   "cell_type": "markdown",
   "metadata": {},
   "source": [
    "## Note: Please print the output of each question in a new cell below your code"
   ]
  },
  {
   "cell_type": "markdown",
   "metadata": {},
   "source": [
    "\n",
    "\n",
    "## Numpy Introduction\n",
    "\n",
    "\n",
    "__1a) Create two numpy arrays (a and b). a should be all integers between 25-34 (inclusive), and b should be ten evenly spaced numbers between 1-6. Print all the results below and store them seperately:__\n",
    "\n",
    "\n",
    "i) Cube (i.e. raise to the power of 3) all the elements in both arrays (element-wise)  \n",
    "ii)  Add both the cubed arrays (e.g., [1,2] + [3,4] = [4,6])  \n",
    "iii)  Sum the elements with even indices of the added array.  \n",
    "iv)  Take the square root of the added array (element-wise square root)\n",
    "\n",
    "\n"
   ]
  },
  {
   "cell_type": "code",
   "execution_count": null,
   "metadata": {},
   "outputs": [],
   "source": [
    "# your code here"
   ]
  },
  {
   "cell_type": "markdown",
   "metadata": {},
   "source": [
    "__1b) Append b to a, reshape the appended array so that it is a 4x5, 2d array and store the results in a variable called m. Print m.__\n"
   ]
  },
  {
   "cell_type": "code",
   "execution_count": null,
   "metadata": {},
   "outputs": [],
   "source": [
    "# your code here"
   ]
  },
  {
   "cell_type": "markdown",
   "metadata": {},
   "source": [
    "__1c) Extract the third and the fourth column of the m matrix. Store the resulting 4x2 matrix in a new variable called m2. Print m2.__\n"
   ]
  },
  {
   "cell_type": "code",
   "execution_count": null,
   "metadata": {},
   "outputs": [],
   "source": [
    "# your code here"
   ]
  },
  {
   "cell_type": "markdown",
   "metadata": {},
   "source": [
    "__1d) Take the dot product of m2 and m store the results in a matrix called m3. Print m3.\n",
    "Note that Dot product of two matrices A.B =A<sup>T</sup>B__"
   ]
  },
  {
   "cell_type": "code",
   "execution_count": null,
   "metadata": {},
   "outputs": [],
   "source": [
    "# your code here"
   ]
  },
  {
   "cell_type": "markdown",
   "metadata": {},
   "source": [
    "## Numpy conditions"
   ]
  },
  {
   "cell_type": "markdown",
   "metadata": {},
   "source": [
    "\n",
    "__2a) Create a numpy array called 'f' where the values are cosine(x) for x from 0 to pi with 50 equally spaced values in f__\n",
    "* Print f\n",
    "* Use condition on the array and print an array that is True when f >= 1/2 and False when f < 1/2\n",
    "* Create and print an array sequence that has only those values where f>= 1/2\n",
    "\n"
   ]
  },
  {
   "cell_type": "code",
   "execution_count": null,
   "metadata": {},
   "outputs": [],
   "source": [
    "# your code here\n",
    "\n"
   ]
  },
  {
   "cell_type": "markdown",
   "metadata": {},
   "source": [
    "## NumPy and 2 Variable Prediction"
   ]
  },
  {
   "cell_type": "markdown",
   "metadata": {},
   "source": [
    "__Let 'x' be the number of miles a person drives per day and 'y' be the dollars spent on buying car fuel (per day).__\n",
    "  \n",
    "__We have created 2 numpy arrays each of size 100 that represent x and y.  \n",
    "x ( number of miles) ranges from 1 to 10 with a uniform noise of (0,1/2)  \n",
    "y (money spent in dollars) will be from 1 to 20 with a uniform noise (0,1)__ \n"
   ]
  },
  {
   "cell_type": "code",
   "execution_count": 1,
   "metadata": {},
   "outputs": [
    {
     "name": "stdout",
     "output_type": "stream",
     "text": [
      "x =  [ 1.34683976  1.12176759  1.51512398  1.55233174  1.40619168  1.65075498\n",
      "  1.79399331  1.80243817  1.89844195  2.00100023  2.3344038   2.22424872\n",
      "  2.24914511  2.36268477  2.49808849  2.8212704   2.68452475  2.68229427\n",
      "  3.09511169  2.95703884  3.09047742  3.2544361   3.41541904  3.40886375\n",
      "  3.50672677  3.74960644  3.64861355  3.7721462   3.56368566  4.01092701\n",
      "  4.15630694  4.06088549  4.02517179  4.25169402  4.15897504  4.26835333\n",
      "  4.32520644  4.48563164  4.78490721  4.84614839  4.96698768  5.18754259\n",
      "  5.29582013  5.32097781  5.0674106   5.47601124  5.46852704  5.64537452\n",
      "  5.49642807  5.89755027  5.68548923  5.76276141  5.94613234  6.18135713\n",
      "  5.96522091  6.0275473   6.54290191  6.4991329   6.74003765  6.81809807\n",
      "  6.50611821  6.91538752  7.01250925  6.89905417  7.31314433  7.20472297\n",
      "  7.1043621   7.48199528  7.58957227  7.61744354  7.6991707   7.85436822\n",
      "  8.03510784  7.80787781  8.22410224  7.99366248  8.40581097  8.28913792\n",
      "  8.45971515  8.54227144  8.6906456   8.61856507  8.83489887  8.66309658\n",
      "  8.94837987  9.20890222  8.9614749   8.92608294  9.13231416  9.55889896\n",
      "  9.61488451  9.54252979  9.42015491  9.90952569 10.00659591 10.02504265\n",
      " 10.07330937  9.93489915 10.0892334  10.36509991]\n",
      "y =  [ 1.6635012   2.0214592   2.10816052  2.26016496  1.96287558  2.9554635\n",
      "  3.02881887  3.33565296  2.75465779  3.4250107   3.39670148  3.39377767\n",
      "  3.78503343  4.38293049  4.32963586  4.03925039  4.73691868  4.30098399\n",
      "  4.8416329   4.78175957  4.99765787  5.31746817  5.76844671  5.93723749\n",
      "  5.72811642  6.70973615  6.68143367  6.57482731  7.17737603  7.54863252\n",
      "  7.30221419  7.3202573   7.78023884  7.91133365  8.2765417   8.69203281\n",
      "  8.78219865  8.45897546  8.89094715  8.81719921  8.87106971  9.66192562\n",
      "  9.4020625   9.85990783  9.60359778 10.07386266 10.6957995  10.66721916\n",
      " 11.18256285 10.57431836 11.46744716 10.94398916 11.26445259 12.09754828\n",
      " 12.11988037 12.121557   12.17613693 12.43750193 13.00912372 12.86407194\n",
      " 13.24640866 12.76120085 13.11723062 14.07841099 14.19821707 14.27289001\n",
      " 14.30624942 14.63060835 14.2770918  15.0744923  14.45261619 15.11897313\n",
      " 15.2378667  15.27203124 15.32491892 16.01095271 15.71250558 16.29488506\n",
      " 16.70618934 16.56555394 16.42379457 17.18144744 17.13813976 17.69613625\n",
      " 17.37763019 17.90942839 17.90343733 18.01951169 18.35727914 18.16841269\n",
      " 18.61813748 18.66062754 18.81217983 19.44995194 19.7213867  19.71966726\n",
      " 19.78961904 19.64385088 20.69719809 20.07974319]\n"
     ]
    }
   ],
   "source": [
    "# seed the random number generator with a fixed value\n",
    "import numpy as np\n",
    "np.random.seed(500)\n",
    "\n",
    "x = np.linspace(1,10,100)+ np.random.uniform(low=0,high=.5,size=100) \n",
    "y = np.linspace(1,20,100)+ np.random.uniform(low=0,high=1,size=100)\n",
    "print('x = ',x)\n",
    "print('y = ',y)"
   ]
  },
  {
   "cell_type": "markdown",
   "metadata": {},
   "source": [
    "__3a) Find Expected value of x and the expected value of y__"
   ]
  },
  {
   "cell_type": "code",
   "execution_count": null,
   "metadata": {},
   "outputs": [],
   "source": [
    "# your code here"
   ]
  },
  {
   "cell_type": "markdown",
   "metadata": {},
   "source": [
    "__3b) Find variance of distributions of  x and  y__"
   ]
  },
  {
   "cell_type": "code",
   "execution_count": null,
   "metadata": {},
   "outputs": [],
   "source": [
    "# your code here"
   ]
  },
  {
   "cell_type": "markdown",
   "metadata": {},
   "source": [
    "__3c) Find co-variance of x and y.__"
   ]
  },
  {
   "cell_type": "code",
   "execution_count": null,
   "metadata": {},
   "outputs": [],
   "source": [
    "# your code here"
   ]
  },
  {
   "cell_type": "markdown",
   "metadata": {},
   "source": [
    "__3d) Assuming that number of dollars spent in car fuel is only dependant on the miles driven, by  a linear relationship.  \n",
    "Write code that uses a linear predictor to calculate a predicted value of y for each x\n",
    "i.e y_predicted = f(x) = y0+mx. (Do not use Machine learning libraries)__ "
   ]
  },
  {
   "cell_type": "code",
   "execution_count": null,
   "metadata": {},
   "outputs": [],
   "source": [
    "# your code here"
   ]
  },
  {
   "cell_type": "markdown",
   "metadata": {},
   "source": [
    "__3e) Predict y for each value in x, put the error into an array called y_error__"
   ]
  },
  {
   "cell_type": "code",
   "execution_count": null,
   "metadata": {},
   "outputs": [],
   "source": [
    "# your code here"
   ]
  },
  {
   "cell_type": "markdown",
   "metadata": {},
   "source": [
    "__3f) Write code that calculates the root mean square error(RMSE), that is root of average of y-error squared__\n"
   ]
  },
  {
   "cell_type": "code",
   "execution_count": null,
   "metadata": {},
   "outputs": [],
   "source": [
    "# your code here"
   ]
  },
  {
   "cell_type": "markdown",
   "metadata": {},
   "source": [
    "## Pandas Introduction\n",
    "\n",
    "\n",
    "##  Reading File\n"
   ]
  },
  {
   "cell_type": "code",
   "execution_count": 3,
   "metadata": {},
   "outputs": [],
   "source": [
    "# Load required modules\n",
    "import pandas as pd\n",
    "import numpy as np\n",
    "\n"
   ]
  },
  {
   "cell_type": "markdown",
   "metadata": {},
   "source": [
    "#### Read the CSV file called 'data3.csv' into a dataframe called df. \n",
    "#### Data description\n",
    "* File location: https://bcourses.berkeley.edu/files/74463396/download?download_frd=1\n",
    "* Data source: http://www.fao.org/nr/water/aquastat/data/query/index.html?*lang=en\n",
    "* Data, units:\n",
    "* GDP, current USD (CPI adjusted)\n",
    "* NRI, mm/yr\n",
    "* Population density, inhab/km^2\n",
    "* Total area of the country, 1000 ha = 10km^2\n",
    "* Total Population, unit 1000 inhabitants\n"
   ]
  },
  {
   "cell_type": "code",
   "execution_count": 2,
   "metadata": {},
   "outputs": [],
   "source": [
    "# your code here\n"
   ]
  },
  {
   "cell_type": "markdown",
   "metadata": {},
   "source": [
    "#### 4a ) Display the first 10 rows of the dataframe"
   ]
  },
  {
   "cell_type": "code",
   "execution_count": null,
   "metadata": {},
   "outputs": [],
   "source": [
    "# your code here"
   ]
  },
  {
   "cell_type": "markdown",
   "metadata": {},
   "source": [
    "#### 4b) Display the column names."
   ]
  },
  {
   "cell_type": "code",
   "execution_count": null,
   "metadata": {},
   "outputs": [],
   "source": [
    "# your code here"
   ]
  },
  {
   "cell_type": "markdown",
   "metadata": {},
   "source": [
    "#### 4c) Use iloc to display the first 3 rows and first 4 columns."
   ]
  },
  {
   "cell_type": "code",
   "execution_count": null,
   "metadata": {},
   "outputs": [],
   "source": [
    "# your code here\n"
   ]
  },
  {
   "cell_type": "markdown",
   "metadata": {},
   "source": [
    "\n",
    "\n",
    "## Data Preprocessing\n",
    "\n",
    "#### 5a ) Find all the rows that  have 'NaN' in the 'Symbol' column. Display first 5 rows.\n",
    "\n",
    "##### Hint : You might have to use a condition (mask)"
   ]
  },
  {
   "cell_type": "code",
   "execution_count": null,
   "metadata": {},
   "outputs": [],
   "source": [
    "# your code here"
   ]
  },
  {
   "cell_type": "markdown",
   "metadata": {},
   "source": [
    "#### 5b )  Now, we will try to get rid of the NaN valued rows and columns. First, drop the column 'Other' which only has 'NaN' values. Then drop all other rows that have any column with a value 'NaN'.  Then display the last 5 rows of the dataframe."
   ]
  },
  {
   "cell_type": "code",
   "execution_count": null,
   "metadata": {},
   "outputs": [],
   "source": [
    "# your code here"
   ]
  },
  {
   "cell_type": "markdown",
   "metadata": {},
   "source": [
    "\n",
    "\n",
    "\n",
    "#### 6a) For our analysis we do not want all the columns in our dataframe. Lets  drop all the redundant columns/ features.   \n",
    "#### **Drop columns**: **Area Id, Variable Id, Symbol**. Save the new dataframe as df1. Display the first 5 rows of the new dataframe.\n"
   ]
  },
  {
   "cell_type": "code",
   "execution_count": null,
   "metadata": {},
   "outputs": [],
   "source": [
    "# your code here"
   ]
  },
  {
   "cell_type": "markdown",
   "metadata": {},
   "source": [
    "#### 6b) Display all the unique values in your new dataframe for columns: Area, Variable Name, Year.\n"
   ]
  },
  {
   "cell_type": "code",
   "execution_count": null,
   "metadata": {},
   "outputs": [],
   "source": [
    "# your code here"
   ]
  },
  {
   "cell_type": "markdown",
   "metadata": {},
   "source": [
    "__6c) Convert the year column to pandas datetime. Convert the 'Year' column float values to pandas datetime objects, where each year is represented as the first day of that year. Also display the column and datatype for 'Year' after conversion.\n",
    "For eg: 1962.0 will be represented as 1962-01-01¶__\n"
   ]
  },
  {
   "cell_type": "code",
   "execution_count": null,
   "metadata": {},
   "outputs": [],
   "source": []
  },
  {
   "cell_type": "markdown",
   "metadata": {},
   "source": [
    "## Extract specific statistics from the preprocessed data:\n",
    "\n",
    "#### 7a)  Create a dataframe 'dftemp' to store rows where Area is 'Iceland'. Display the dataframe."
   ]
  },
  {
   "cell_type": "code",
   "execution_count": null,
   "metadata": {},
   "outputs": [],
   "source": [
    "# your code here"
   ]
  },
  {
   "cell_type": "markdown",
   "metadata": {},
   "source": [
    "#### 7b) Print the years when the National Rainfall Index (NRI) was greater than 900 and less than 950 in Iceland. Use the dataframe you created in the previous question 'dftemp'. "
   ]
  },
  {
   "cell_type": "code",
   "execution_count": null,
   "metadata": {},
   "outputs": [],
   "source": [
    "# your code here"
   ]
  },
  {
   "cell_type": "code",
   "execution_count": null,
   "metadata": {},
   "outputs": [],
   "source": [
    "\n"
   ]
  },
  {
   "cell_type": "markdown",
   "metadata": {},
   "source": [
    "## US statistics: \n"
   ]
  },
  {
   "cell_type": "markdown",
   "metadata": {},
   "source": [
    "#### 8a) Create a new DataFrame called **`df_usa`** that only contains values where 'Area' is equal to 'United States of America'. Set the indices to be the 'Year' column    ( Use .set_index( ) ). Display the dataframe head."
   ]
  },
  {
   "cell_type": "code",
   "execution_count": null,
   "metadata": {},
   "outputs": [],
   "source": [
    "# your code here"
   ]
  },
  {
   "cell_type": "markdown",
   "metadata": {},
   "source": [
    "\n",
    "#### 8b) Pivot the DataFrame so that the unique values in the column 'Variable Name' becomes the columns. The DataFrame values should be the ones in the the 'Value' column. Save it in df_usa. Display the dataframe head."
   ]
  },
  {
   "cell_type": "code",
   "execution_count": null,
   "metadata": {},
   "outputs": [],
   "source": [
    "# your code here"
   ]
  },
  {
   "cell_type": "markdown",
   "metadata": {},
   "source": [
    "#### 8c) Rename new columns to  ['GDP','NRI','PD','Area','Population'] and display the head.\n"
   ]
  },
  {
   "cell_type": "code",
   "execution_count": null,
   "metadata": {},
   "outputs": [],
   "source": [
    "# your code here"
   ]
  },
  {
   "cell_type": "markdown",
   "metadata": {},
   "source": [
    "#### 8d) Replace all 'Nan' values in df_usa with 0. Display the head of the dataframe."
   ]
  },
  {
   "cell_type": "code",
   "execution_count": null,
   "metadata": {},
   "outputs": [],
   "source": [
    "# your code here"
   ]
  },
  {
   "cell_type": "markdown",
   "metadata": {},
   "source": [
    "## Note: Use df_usa\n",
    "\n",
    "#### 9a) Multiply the 'Area' column for all countries by 10 (so instead of 1000 ha, the unit becomes 100 ha = 1km^2). Display the dataframe head.\n"
   ]
  },
  {
   "cell_type": "code",
   "execution_count": null,
   "metadata": {},
   "outputs": [],
   "source": [
    "# your code here"
   ]
  },
  {
   "cell_type": "markdown",
   "metadata": {},
   "source": [
    "\n",
    "#### 9b) Create a new column in df_usa called 'GDP/capita' and populate it with the calculated GDP per capita. Round the results to two decimal points. Display the dataframe head.\n",
    "GDP per capita = (GDP / Population)"
   ]
  },
  {
   "cell_type": "code",
   "execution_count": null,
   "metadata": {},
   "outputs": [],
   "source": [
    "# your code here"
   ]
  },
  {
   "cell_type": "markdown",
   "metadata": {},
   "source": [
    "\n",
    "#### 9c) Find the maximum value of the 'NRI' column in the US (using pandas methods). What year does the max value occur? Display the values."
   ]
  },
  {
   "cell_type": "code",
   "execution_count": null,
   "metadata": {},
   "outputs": [],
   "source": [
    "# your code here\n"
   ]
  }
 ],
 "metadata": {
  "anaconda-cloud": {},
  "kernelspec": {
   "display_name": "Python 3",
   "language": "python",
   "name": "python3"
  },
  "language_info": {
   "codemirror_mode": {
    "name": "ipython",
    "version": 3
   },
   "file_extension": ".py",
   "mimetype": "text/x-python",
   "name": "python",
   "nbconvert_exporter": "python",
   "pygments_lexer": "ipython3",
   "version": "3.7.1"
  }
 },
 "nbformat": 4,
 "nbformat_minor": 1
}
